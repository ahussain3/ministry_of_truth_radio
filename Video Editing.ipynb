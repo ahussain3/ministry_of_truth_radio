{
 "cells": [
  {
   "cell_type": "code",
   "execution_count": 2,
   "metadata": {},
   "outputs": [],
   "source": [
    "import sys\n",
    "from moviepy.editor import *\n",
    "from scipy.io.wavfile import read\n",
    "import numpy as np\n",
    "from matplotlib import pyplot as plt\n",
    "import json\n",
    "\n",
    "class AudioChannel(object):\n",
    "    def __init__(self, video_file_name, audio_file_name):\n",
    "        super(AudioChannel, self).__init__()\n",
    "        self.video_file_name = video_file_name\n",
    "        self.audio_file_name = audio_file_name\n",
    "        self.audio = read(audio_file_name)[1]"
   ]
  },
  {
   "cell_type": "code",
   "execution_count": 3,
   "metadata": {},
   "outputs": [],
   "source": [
    "awais = AudioChannel(\"data/awais_trimmed.mp4\", \"data/awais.wav\")\n",
    "george = AudioChannel(\"data/george_trimmed_2.mp4\", \"data/george.wav\")"
   ]
  },
  {
   "cell_type": "code",
   "execution_count": 4,
   "metadata": {},
   "outputs": [],
   "source": [
    "def amplitude(arr):\n",
    "    return np.sqrt(np.mean(np.array(arr)**2))"
   ]
  },
  {
   "cell_type": "code",
   "execution_count": 6,
   "metadata": {},
   "outputs": [
    {
     "data": {
      "image/png": "[encoded data removed]",
      "text/plain": [
       "<matplotlib.figure.Figure at 0x10b8d0c88>"
      ]
     },
     "metadata": {},
     "output_type": "display_data"
    }
   ],
   "source": [
    "# plt.plot(george.audio)\n",
    "plt.plot(awais.audio, color=\"orange\")\n",
    "plt.show()"
   ]
  },
  {
   "cell_type": "code",
   "execution_count": null,
   "metadata": {},
   "outputs": [],
   "source": []
  },
  {
   "cell_type": "code",
   "execution_count": 4,
   "metadata": {
    "collapsed": true
   },
   "outputs": [],
   "source": [
    "SAMPLE_RATE = 44100\n",
    "CHUNK_SIZE = 1024\n",
    "BIAS_HYSTERESIS = 10\n",
    "MIN_LENGTH = 4\n",
    "MULTIPLIER = 160"
   ]
  },
  {
   "cell_type": "code",
   "execution_count": 5,
   "metadata": {
    "collapsed": true
   },
   "outputs": [],
   "source": [
    "def amplitude(arr):\n",
    "    return np.sqrt(np.mean(np.square(np.array(arr, dtype=\"int32\"))))\n",
    "\n",
    "def chunked_amplitude(audio):\n",
    "    output = []\n",
    "    for i in range(0, len(audio) - CHUNK_SIZE, CHUNK_SIZE):\n",
    "        output.append(amplitude(audio[i : i + CHUNK_SIZE]))\n",
    "    \n",
    "    return output\n",
    "\n",
    "def long_amplitude(audio):\n",
    "    return np.mean(chunked_amplitude(audio))"
   ]
  },
  {
   "cell_type": "code",
   "execution_count": 7,
   "metadata": {},
   "outputs": [
    {
     "data": {
      "text/plain": [
       "330.98431565230015"
      ]
     },
     "execution_count": 7,
     "metadata": {},
     "output_type": "execute_result"
    }
   ],
   "source": [
    "long_amplitude(awais.audio)"
   ]
  },
  {
   "cell_type": "code",
   "execution_count": 8,
   "metadata": {},
   "outputs": [
    {
     "data": {
      "image/png": "[encoded data removed]",
      "text/plain": [
       "<matplotlib.figure.Figure at 0x10b4c56a0>"
      ]
     },
     "metadata": {},
     "output_type": "display_data"
    }
   ],
   "source": [
    "plt.plot(chunked_amplitude(awais.audio), label=\"awais\")\n",
    "plt.plot(chunked_amplitude(george.audio), label=\"george\")\n",
    "plt.legend()\n",
    "plt.show()"
   ]
  },
  {
   "cell_type": "code",
   "execution_count": 6,
   "metadata": {},
   "outputs": [],
   "source": [
    "def update_progress(progress):\n",
    "    progress_int = int(progress)\n",
    "    sys.stdout.write('\\r[{0}] {1}%'.format('#'*(int(progress_int/10)), progress_int))\n",
    "\n",
    "def generate_cuts(person_a, person_b):\n",
    "    output = []\n",
    "    currently_showing = person_a if long_amplitude(person_a.audio[0:(MULTIPLIER*CHUNK_SIZE)]) > long_amplitude(person_b.audio[0:(MULTIPLIER*CHUNK_SIZE)]) else person_b\n",
    "    not_showing = person_b if currently_showing == person_a else person_a\n",
    "    prev_time_out = 0.0\n",
    "        \n",
    "    for i in np.arange(0, len(person_a.audio) - (CHUNK_SIZE * MULTIPLIER), CHUNK_SIZE):\n",
    "        if (i % 10000 == 0):\n",
    "            update_progress(i / (len(person_a.audio) - (CHUNK_SIZE * MULTIPLIER)) * 100)\n",
    "\n",
    "        time_out = i / SAMPLE_RATE\n",
    "\n",
    "        other_person_is_speaking = amplitude(not_showing.audio[i:i+CHUNK_SIZE]) > amplitude(currently_showing.audio[i:i+CHUNK_SIZE])\n",
    "        other_person_will_be_speaking = long_amplitude(not_showing.audio[i:i+(MULTIPLIER*CHUNK_SIZE)]) > long_amplitude(currently_showing.audio[i:i+(MULTIPLIER*CHUNK_SIZE)])\n",
    "        should_switch = other_person_is_speaking and other_person_will_be_speaking and ((time_out - prev_time_out) > MIN_LENGTH)\n",
    "\n",
    "        if should_switch:            \n",
    "            output.append({'cut_to': currently_showing.video_file_name, 'time_in': prev_time_out, 'time_out': time_out})\n",
    "            prev_time_out = i / SAMPLE_RATE\n",
    "            \n",
    "            temp = currently_showing\n",
    "            currently_showing = not_showing\n",
    "            not_showing = temp\n",
    "            \n",
    "    output.append({'cut_to': currently_showing.video_file_name, 'time_in': prev_time_out, 'time_out': len(person_a.audio) / SAMPLE_RATE})    \n",
    "    \n",
    "    return output"
   ]
  },
  {
   "cell_type": "code",
   "execution_count": 7,
   "metadata": {},
   "outputs": [
    {
     "name": "stdout",
     "output_type": "stream",
     "text": [
      "[#########] 99%"
     ]
    },
    {
     "ename": "NameError",
     "evalue": "name 'json' is not defined",
     "output_type": "error",
     "traceback": [
      "\u001b[0;31m---------------------------------------------------------------------------\u001b[0m",
      "\u001b[0;31mNameError\u001b[0m                                 Traceback (most recent call last)",
      "\u001b[0;32m<ipython-input-7-1e5fecf245b7>\u001b[0m in \u001b[0;36m<module>\u001b[0;34m()\u001b[0m\n\u001b[1;32m      1\u001b[0m \u001b[0mcuts\u001b[0m \u001b[0;34m=\u001b[0m \u001b[0mgenerate_cuts\u001b[0m\u001b[0;34m(\u001b[0m\u001b[0mawais\u001b[0m\u001b[0;34m,\u001b[0m \u001b[0mgeorge\u001b[0m\u001b[0;34m)\u001b[0m\u001b[0;34m\u001b[0m\u001b[0m\n\u001b[1;32m      2\u001b[0m \u001b[0;32mwith\u001b[0m \u001b[0mopen\u001b[0m\u001b[0;34m(\u001b[0m\u001b[0;34m'cuts.json'\u001b[0m\u001b[0;34m,\u001b[0m \u001b[0;34m'w'\u001b[0m\u001b[0;34m)\u001b[0m \u001b[0;32mas\u001b[0m \u001b[0moutfile\u001b[0m\u001b[0;34m:\u001b[0m\u001b[0;34m\u001b[0m\u001b[0m\n\u001b[0;32m----> 3\u001b[0;31m     \u001b[0mjson\u001b[0m\u001b[0;34m.\u001b[0m\u001b[0mdump\u001b[0m\u001b[0;34m(\u001b[0m\u001b[0mcuts\u001b[0m\u001b[0;34m,\u001b[0m \u001b[0moutfile\u001b[0m\u001b[0;34m)\u001b[0m\u001b[0;34m\u001b[0m\u001b[0m\n\u001b[0m",
      "\u001b[0;31mNameError\u001b[0m: name 'json' is not defined"
     ]
    }
   ],
   "source": [
    "cuts = generate_cuts(awais, george)"
   ]
  },
  {
   "cell_type": "code",
   "execution_count": 10,
   "metadata": {},
   "outputs": [
    {
     "data": {
      "text/plain": [
       "[{'cut_to': 'data/awais_trimmed.mp4',\n",
       "  'time_in': 0.0,\n",
       "  'time_out': 12.399455782312925},\n",
       " {'cut_to': 'data/george_trimmed_2.mp4',\n",
       "  'time_in': 12.399455782312925,\n",
       "  'time_out': 19.342222222222222},\n",
       " {'cut_to': 'data/awais_trimmed.mp4',\n",
       "  'time_in': 19.342222222222222,\n",
       "  'time_out': 26.958367346938775},\n",
       " {'cut_to': 'data/george_trimmed_2.mp4',\n",
       "  'time_in': 26.958367346938775,\n",
       "  'time_out': 38.591564625850339},\n",
       " {'cut_to': 'data/awais_trimmed.mp4',\n",
       "  'time_in': 38.591564625850339,\n",
       "  'time_out': 42.608616780045352},\n",
       " {'cut_to': 'data/george_trimmed_2.mp4',\n",
       "  'time_in': 42.608616780045352,\n",
       "  'time_out': 53.939954648526076},\n",
       " {'cut_to': 'data/awais_trimmed.mp4',\n",
       "  'time_in': 53.939954648526076,\n",
       "  'time_out': 60.743401360544219},\n",
       " {'cut_to': 'data/george_trimmed_2.mp4',\n",
       "  'time_in': 60.743401360544219,\n",
       "  'time_out': 98.800907029478452},\n",
       " {'cut_to': 'data/awais_trimmed.mp4',\n",
       "  'time_in': 98.800907029478452,\n",
       "  'time_out': 106.74213151927438},\n",
       " {'cut_to': 'data/george_trimmed_2.mp4',\n",
       "  'time_in': 106.74213151927438,\n",
       "  'time_out': 115.37995464852608},\n",
       " {'cut_to': 'data/awais_trimmed.mp4',\n",
       "  'time_in': 115.37995464852608,\n",
       "  'time_out': 119.44344671201814},\n",
       " {'cut_to': 'data/george_trimmed_2.mp4',\n",
       "  'time_in': 119.44344671201814,\n",
       "  'time_out': 135.53487528344672},\n",
       " {'cut_to': 'data/awais_trimmed.mp4',\n",
       "  'time_in': 135.53487528344672,\n",
       "  'time_out': 139.69124716553287},\n",
       " {'cut_to': 'data/george_trimmed_2.mp4',\n",
       "  'time_in': 139.69124716553287,\n",
       "  'time_out': 155.27183673469386},\n",
       " {'cut_to': 'data/awais_trimmed.mp4',\n",
       "  'time_in': 155.27183673469386,\n",
       "  'time_out': 160.1944671201814},\n",
       " {'cut_to': 'data/george_trimmed_2.mp4',\n",
       "  'time_in': 160.1944671201814,\n",
       "  'time_out': 172.36172335600907},\n",
       " {'cut_to': 'data/awais_trimmed.mp4',\n",
       "  'time_in': 172.36172335600907,\n",
       "  'time_out': 176.37877551020409},\n",
       " {'cut_to': 'data/george_trimmed_2.mp4',\n",
       "  'time_in': 176.37877551020409,\n",
       "  'time_out': 180.99954648526077},\n",
       " {'cut_to': 'data/awais_trimmed.mp4',\n",
       "  'time_in': 180.99954648526077,\n",
       "  'time_out': 190.96090702947845},\n",
       " {'cut_to': 'data/george_trimmed_2.mp4',\n",
       "  'time_in': 190.96090702947845,\n",
       "  'time_out': 223.86358276643992},\n",
       " {'cut_to': 'data/awais_trimmed.mp4',\n",
       "  'time_in': 223.86358276643992,\n",
       "  'time_out': 227.92707482993197},\n",
       " {'cut_to': 'data/george_trimmed_2.mp4',\n",
       "  'time_in': 227.92707482993197,\n",
       "  'time_out': 263.19818594104311},\n",
       " {'cut_to': 'data/awais_trimmed.mp4',\n",
       "  'time_in': 263.19818594104311,\n",
       "  'time_out': 270.60535147392289},\n",
       " {'cut_to': 'data/george_trimmed_2.mp4',\n",
       "  'time_in': 270.60535147392289,\n",
       "  'time_out': 274.90104308390022},\n",
       " {'cut_to': 'data/awais_trimmed.mp4',\n",
       "  'time_in': 274.90104308390022,\n",
       "  'time_out': 279.54503401360546},\n",
       " {'cut_to': 'data/george_trimmed_2.mp4',\n",
       "  'time_in': 279.54503401360546,\n",
       "  'time_out': 364.13532879818592},\n",
       " {'cut_to': 'data/awais_trimmed.mp4',\n",
       "  'time_in': 364.13532879818592,\n",
       "  'time_out': 368.66321995464853},\n",
       " {'cut_to': 'data/george_trimmed_2.mp4',\n",
       "  'time_in': 368.66321995464853,\n",
       "  'time_out': 382.40943310657599},\n",
       " {'cut_to': 'data/awais_trimmed.mp4',\n",
       "  'time_in': 382.40943310657599,\n",
       "  'time_out': 386.42648526077096},\n",
       " {'cut_to': 'data/george_trimmed_2.mp4',\n",
       "  'time_in': 386.42648526077096,\n",
       "  'time_out': 442.10793650793653},\n",
       " {'cut_to': 'data/awais_trimmed.mp4',\n",
       "  'time_in': 442.10793650793653,\n",
       "  'time_out': 446.1249886621315},\n",
       " {'cut_to': 'data/george_trimmed_2.mp4',\n",
       "  'time_in': 446.1249886621315,\n",
       "  'time_out': 471.64371882086169},\n",
       " {'cut_to': 'data/awais_trimmed.mp4',\n",
       "  'time_in': 471.64371882086169,\n",
       "  'time_out': 478.40072562358279},\n",
       " {'cut_to': 'data/george_trimmed_2.mp4',\n",
       "  'time_in': 478.40072562358279,\n",
       "  'time_out': 557.81297052154196},\n",
       " {'cut_to': 'data/awais_trimmed.mp4',\n",
       "  'time_in': 557.81297052154196,\n",
       "  'time_out': 574.94929705215418},\n",
       " {'cut_to': 'data/george_trimmed_2.mp4',\n",
       "  'time_in': 574.94929705215418,\n",
       "  'time_out': 641.56734693877547},\n",
       " {'cut_to': 'data/awais_trimmed.mp4',\n",
       "  'time_in': 641.56734693877547,\n",
       "  'time_out': 648.41723356009072},\n",
       " {'cut_to': 'data/george_trimmed_2.mp4',\n",
       "  'time_in': 648.41723356009072,\n",
       "  'time_out': 660.0647845804989}]"
      ]
     },
     "execution_count": 10,
     "metadata": {},
     "output_type": "execute_result"
    }
   ],
   "source": [
    "cuts"
   ]
  },
  {
   "cell_type": "code",
   "execution_count": 9,
   "metadata": {
    "collapsed": true
   },
   "outputs": [],
   "source": [
    "with open('cuts.json', 'w') as outfile:\n",
    "    json.dump(cuts, outfile)"
   ]
  },
  {
   "cell_type": "code",
   "execution_count": 46,
   "metadata": {},
   "outputs": [
    {
     "data": {
      "text/plain": [
       "17.37012591001313"
      ]
     },
     "execution_count": 46,
     "metadata": {},
     "output_type": "execute_result"
    }
   ],
   "source": [
    "def avg_cut_length(cuts):\n",
    "    durations = []\n",
    "    for cut in cuts:\n",
    "        durations.append(cut['time_out'] - cut['time_in'])\n",
    "    return np.mean(durations)\n",
    "\n",
    "avg_cut_length(cuts)"
   ]
  },
  {
   "cell_type": "code",
   "execution_count": 47,
   "metadata": {},
   "outputs": [
    {
     "data": {
      "text/plain": [
       "38"
      ]
     },
     "execution_count": 47,
     "metadata": {},
     "output_type": "execute_result"
    }
   ],
   "source": [
    "len(cuts)"
   ]
  },
  {
   "cell_type": "code",
   "execution_count": 48,
   "metadata": {},
   "outputs": [
    {
     "data": {
      "text/plain": [
       "[{'cut_to': 'data/awais_trimmed.mp4',\n",
       "  'time_in': 0.0,\n",
       "  'time_out': 12.399455782312925},\n",
       " {'cut_to': 'data/george_trimmed_2.mp4',\n",
       "  'time_in': 12.399455782312925,\n",
       "  'time_out': 19.342222222222222},\n",
       " {'cut_to': 'data/awais_trimmed.mp4',\n",
       "  'time_in': 19.342222222222222,\n",
       "  'time_out': 26.958367346938775},\n",
       " {'cut_to': 'data/george_trimmed_2.mp4',\n",
       "  'time_in': 26.958367346938775,\n",
       "  'time_out': 38.591564625850339},\n",
       " {'cut_to': 'data/awais_trimmed.mp4',\n",
       "  'time_in': 38.591564625850339,\n",
       "  'time_out': 42.608616780045352},\n",
       " {'cut_to': 'data/george_trimmed_2.mp4',\n",
       "  'time_in': 42.608616780045352,\n",
       "  'time_out': 53.939954648526076},\n",
       " {'cut_to': 'data/awais_trimmed.mp4',\n",
       "  'time_in': 53.939954648526076,\n",
       "  'time_out': 60.743401360544219},\n",
       " {'cut_to': 'data/george_trimmed_2.mp4',\n",
       "  'time_in': 60.743401360544219,\n",
       "  'time_out': 98.800907029478452},\n",
       " {'cut_to': 'data/awais_trimmed.mp4',\n",
       "  'time_in': 98.800907029478452,\n",
       "  'time_out': 106.74213151927438},\n",
       " {'cut_to': 'data/george_trimmed_2.mp4',\n",
       "  'time_in': 106.74213151927438,\n",
       "  'time_out': 115.37995464852608},\n",
       " {'cut_to': 'data/awais_trimmed.mp4',\n",
       "  'time_in': 115.37995464852608,\n",
       "  'time_out': 119.44344671201814},\n",
       " {'cut_to': 'data/george_trimmed_2.mp4',\n",
       "  'time_in': 119.44344671201814,\n",
       "  'time_out': 135.53487528344672},\n",
       " {'cut_to': 'data/awais_trimmed.mp4',\n",
       "  'time_in': 135.53487528344672,\n",
       "  'time_out': 139.69124716553287},\n",
       " {'cut_to': 'data/george_trimmed_2.mp4',\n",
       "  'time_in': 139.69124716553287,\n",
       "  'time_out': 155.27183673469386},\n",
       " {'cut_to': 'data/awais_trimmed.mp4',\n",
       "  'time_in': 155.27183673469386,\n",
       "  'time_out': 160.1944671201814},\n",
       " {'cut_to': 'data/george_trimmed_2.mp4',\n",
       "  'time_in': 160.1944671201814,\n",
       "  'time_out': 172.36172335600907},\n",
       " {'cut_to': 'data/awais_trimmed.mp4',\n",
       "  'time_in': 172.36172335600907,\n",
       "  'time_out': 176.37877551020409},\n",
       " {'cut_to': 'data/george_trimmed_2.mp4',\n",
       "  'time_in': 176.37877551020409,\n",
       "  'time_out': 180.99954648526077},\n",
       " {'cut_to': 'data/awais_trimmed.mp4',\n",
       "  'time_in': 180.99954648526077,\n",
       "  'time_out': 190.96090702947845},\n",
       " {'cut_to': 'data/george_trimmed_2.mp4',\n",
       "  'time_in': 190.96090702947845,\n",
       "  'time_out': 223.86358276643992},\n",
       " {'cut_to': 'data/awais_trimmed.mp4',\n",
       "  'time_in': 223.86358276643992,\n",
       "  'time_out': 227.92707482993197},\n",
       " {'cut_to': 'data/george_trimmed_2.mp4',\n",
       "  'time_in': 227.92707482993197,\n",
       "  'time_out': 263.19818594104311},\n",
       " {'cut_to': 'data/awais_trimmed.mp4',\n",
       "  'time_in': 263.19818594104311,\n",
       "  'time_out': 270.60535147392289},\n",
       " {'cut_to': 'data/george_trimmed_2.mp4',\n",
       "  'time_in': 270.60535147392289,\n",
       "  'time_out': 274.90104308390022},\n",
       " {'cut_to': 'data/awais_trimmed.mp4',\n",
       "  'time_in': 274.90104308390022,\n",
       "  'time_out': 279.54503401360546},\n",
       " {'cut_to': 'data/george_trimmed_2.mp4',\n",
       "  'time_in': 279.54503401360546,\n",
       "  'time_out': 364.13532879818592},\n",
       " {'cut_to': 'data/awais_trimmed.mp4',\n",
       "  'time_in': 364.13532879818592,\n",
       "  'time_out': 368.66321995464853},\n",
       " {'cut_to': 'data/george_trimmed_2.mp4',\n",
       "  'time_in': 368.66321995464853,\n",
       "  'time_out': 382.40943310657599},\n",
       " {'cut_to': 'data/awais_trimmed.mp4',\n",
       "  'time_in': 382.40943310657599,\n",
       "  'time_out': 386.42648526077096},\n",
       " {'cut_to': 'data/george_trimmed_2.mp4',\n",
       "  'time_in': 386.42648526077096,\n",
       "  'time_out': 442.10793650793653},\n",
       " {'cut_to': 'data/awais_trimmed.mp4',\n",
       "  'time_in': 442.10793650793653,\n",
       "  'time_out': 446.1249886621315},\n",
       " {'cut_to': 'data/george_trimmed_2.mp4',\n",
       "  'time_in': 446.1249886621315,\n",
       "  'time_out': 471.64371882086169},\n",
       " {'cut_to': 'data/awais_trimmed.mp4',\n",
       "  'time_in': 471.64371882086169,\n",
       "  'time_out': 478.40072562358279},\n",
       " {'cut_to': 'data/george_trimmed_2.mp4',\n",
       "  'time_in': 478.40072562358279,\n",
       "  'time_out': 557.81297052154196},\n",
       " {'cut_to': 'data/awais_trimmed.mp4',\n",
       "  'time_in': 557.81297052154196,\n",
       "  'time_out': 574.94929705215418},\n",
       " {'cut_to': 'data/george_trimmed_2.mp4',\n",
       "  'time_in': 574.94929705215418,\n",
       "  'time_out': 641.56734693877547},\n",
       " {'cut_to': 'data/awais_trimmed.mp4',\n",
       "  'time_in': 641.56734693877547,\n",
       "  'time_out': 648.41723356009072},\n",
       " {'cut_to': 'data/george_trimmed_2.mp4',\n",
       "  'time_in': 648.41723356009072,\n",
       "  'time_out': 660.0647845804989}]"
      ]
     },
     "execution_count": 48,
     "metadata": {},
     "output_type": "execute_result"
    }
   ],
   "source": [
    "cuts"
   ]
  },
  {
   "cell_type": "code",
   "execution_count": 49,
   "metadata": {},
   "outputs": [
    {
     "name": "stdout",
     "output_type": "stream",
     "text": [
      "0\n",
      "1\n",
      "2\n",
      "3\n",
      "4\n",
      "5\n",
      "6\n",
      "7\n",
      "8\n",
      "9\n",
      "10\n",
      "11\n",
      "12\n",
      "13\n",
      "14\n",
      "15\n",
      "16\n",
      "17\n",
      "18\n",
      "19\n",
      "20\n",
      "21\n",
      "22\n",
      "23\n",
      "24\n",
      "25\n",
      "26\n",
      "27\n",
      "28\n",
      "29\n",
      "30\n",
      "31\n",
      "32\n",
      "33\n",
      "34\n",
      "35\n",
      "36\n",
      "37\n",
      "Clips built\n"
     ]
    }
   ],
   "source": [
    "clips = []\n",
    "\n",
    "duration = 638\n",
    "def build_clips(cuts):\n",
    "    for i, cut in enumerate(cuts):\n",
    "        print(i)\n",
    "#         print(cut)\n",
    "        if cut[\"time_out\"] < duration:\n",
    "            clips.append(VideoFileClip(cut[\"cut_to\"]).subclip(cut[\"time_in\"], min(cut[\"time_out\"], duration)))\n",
    "    print(\"Clips built\")\n",
    "    \n",
    "build_clips(cuts)"
   ]
  },
  {
   "cell_type": "code",
   "execution_count": 36,
   "metadata": {},
   "outputs": [
    {
     "data": {
      "text/plain": [
       "35"
      ]
     },
     "execution_count": 36,
     "metadata": {},
     "output_type": "execute_result"
    }
   ],
   "source": [
    "len(clips)"
   ]
  },
  {
   "cell_type": "code",
   "execution_count": 50,
   "metadata": {},
   "outputs": [
    {
     "data": {
      "text/plain": [
       "[<moviepy.video.io.VideoFileClip.VideoFileClip at 0x10a026b38>,\n",
       " <moviepy.video.io.VideoFileClip.VideoFileClip at 0x10a026cf8>,\n",
       " <moviepy.video.io.VideoFileClip.VideoFileClip at 0x10a026198>,\n",
       " <moviepy.video.io.VideoFileClip.VideoFileClip at 0x10a026898>,\n",
       " <moviepy.video.io.VideoFileClip.VideoFileClip at 0x13b3f0128>,\n",
       " <moviepy.video.io.VideoFileClip.VideoFileClip at 0x13b3f0400>,\n",
       " <moviepy.video.io.VideoFileClip.VideoFileClip at 0x13b3f0550>,\n",
       " <moviepy.video.io.VideoFileClip.VideoFileClip at 0x13b3f0748>,\n",
       " <moviepy.video.io.VideoFileClip.VideoFileClip at 0x13b3e1710>,\n",
       " <moviepy.video.io.VideoFileClip.VideoFileClip at 0x13b3e18d0>,\n",
       " <moviepy.video.io.VideoFileClip.VideoFileClip at 0x13b3e15f8>,\n",
       " <moviepy.video.io.VideoFileClip.VideoFileClip at 0x13b3e1198>,\n",
       " <moviepy.video.io.VideoFileClip.VideoFileClip at 0x13b3e1390>,\n",
       " <moviepy.video.io.VideoFileClip.VideoFileClip at 0x13b3e10f0>,\n",
       " <moviepy.video.io.VideoFileClip.VideoFileClip at 0x13b3e1400>,\n",
       " <moviepy.video.io.VideoFileClip.VideoFileClip at 0x13b3f0b70>,\n",
       " <moviepy.video.io.VideoFileClip.VideoFileClip at 0x13b3f0f60>,\n",
       " <moviepy.video.io.VideoFileClip.VideoFileClip at 0x13b3eb160>,\n",
       " <moviepy.video.io.VideoFileClip.VideoFileClip at 0x13b3eb048>,\n",
       " <moviepy.video.io.VideoFileClip.VideoFileClip at 0x13b3eb630>,\n",
       " <moviepy.video.io.VideoFileClip.VideoFileClip at 0x13b3eba20>,\n",
       " <moviepy.video.io.VideoFileClip.VideoFileClip at 0x13b3ebb70>,\n",
       " <moviepy.video.io.VideoFileClip.VideoFileClip at 0x13b3ebe80>,\n",
       " <moviepy.video.io.VideoFileClip.VideoFileClip at 0x13b3ebcf8>,\n",
       " <moviepy.video.io.VideoFileClip.VideoFileClip at 0x13b3ff400>,\n",
       " <moviepy.video.io.VideoFileClip.VideoFileClip at 0x13b3ff5f8>,\n",
       " <moviepy.video.io.VideoFileClip.VideoFileClip at 0x13b3ffa20>,\n",
       " <moviepy.video.io.VideoFileClip.VideoFileClip at 0x13b3ffc50>,\n",
       " <moviepy.video.io.VideoFileClip.VideoFileClip at 0x13b3fff60>,\n",
       " <moviepy.video.io.VideoFileClip.VideoFileClip at 0x13b3ff7f0>,\n",
       " <moviepy.video.io.VideoFileClip.VideoFileClip at 0x13b407320>,\n",
       " <moviepy.video.io.VideoFileClip.VideoFileClip at 0x13b407748>,\n",
       " <moviepy.video.io.VideoFileClip.VideoFileClip at 0x13b407a20>,\n",
       " <moviepy.video.io.VideoFileClip.VideoFileClip at 0x13b407b70>,\n",
       " <moviepy.video.io.VideoFileClip.VideoFileClip at 0x13b407f60>]"
      ]
     },
     "execution_count": 50,
     "metadata": {},
     "output_type": "execute_result"
    }
   ],
   "source": [
    "clips"
   ]
  },
  {
   "cell_type": "code",
   "execution_count": 51,
   "metadata": {},
   "outputs": [
    {
     "name": "stdout",
     "output_type": "stream",
     "text": [
      "[MoviePy] >>>> Building video data/output_4.mp4\n",
      "[MoviePy] Writing audio in output_4TEMP_MPY_wvf_snd.mp3\n"
     ]
    },
    {
     "name": "stderr",
     "output_type": "stream",
     "text": [
      "\n",
      "  0%|          | 0/12678 [00:00<?, ?it/s]\u001b[A\n",
      "  0%|          | 32/12678 [00:00<00:47, 267.81it/s]\u001b[A\n",
      "  1%|          | 89/12678 [00:00<00:39, 317.80it/s]\u001b[A\n",
      "  1%|          | 144/12678 [00:00<00:34, 363.17it/s]\u001b[A\n",
      "  2%|▏         | 206/12678 [00:00<00:30, 414.49it/s]\u001b[A\n",
      "  2%|▏         | 272/12678 [00:00<00:26, 465.63it/s]\u001b[A\n",
      "  3%|▎         | 427/12678 [00:00<00:21, 563.20it/s]\u001b[A\n",
      "100%|██████████| 12678/12678 [00:13<00:00, 944.16it/s] "
     ]
    },
    {
     "name": "stdout",
     "output_type": "stream",
     "text": [
      "[MoviePy] Done.\n",
      "[MoviePy] Writing video data/output_4.mp4\n"
     ]
    },
    {
     "name": "stderr",
     "output_type": "stream",
     "text": [
      "\n",
      "100%|██████████| 14374/14374 [07:16<00:00, 32.90it/s]\n"
     ]
    },
    {
     "name": "stdout",
     "output_type": "stream",
     "text": [
      "[MoviePy] Done.\n",
      "[MoviePy] >>>> Video ready: data/output_4.mp4 \n",
      "\n"
     ]
    }
   ],
   "source": [
    "result = concatenate_videoclips(clips)\n",
    "result.write_videofile(\"data/output_4.mp4\", verbose=True, codec=\"libx264\") # Many options..."
   ]
  },
  {
   "cell_type": "code",
   "execution_count": null,
   "metadata": {
    "collapsed": true
   },
   "outputs": [],
   "source": []
  }
 ],
 "metadata": {
  "kernelspec": {
   "display_name": "Python 3",
   "language": "python",
   "name": "python3"
  },
  "language_info": {
   "codemirror_mode": {
    "name": "ipython",
    "version": 3
   },
   "file_extension": ".py",
   "mimetype": "text/x-python",
   "name": "python",
   "nbconvert_exporter": "python",
   "pygments_lexer": "ipython3",
   "version": "3.6.2"
  }
 },
 "nbformat": 4,
 "nbformat_minor": 2
}
